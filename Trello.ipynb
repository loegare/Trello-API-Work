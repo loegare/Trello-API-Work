{
 "cells": [
  {
   "cell_type": "code",
   "execution_count": 1,
   "metadata": {
    "ExecuteTime": {
     "end_time": "2018-09-13T18:11:30.262684Z",
     "start_time": "2018-09-13T18:11:30.029672Z"
    }
   },
   "outputs": [],
   "source": [
    "import requests"
   ]
  },
  {
   "cell_type": "code",
   "execution_count": 2,
   "metadata": {
    "ExecuteTime": {
     "end_time": "2018-09-13T18:11:30.270668Z",
     "start_time": "2018-09-13T18:11:30.264683Z"
    }
   },
   "outputs": [],
   "source": [
    "stuff=open('keys.xxx').read().split('\\n')\n",
    "key=stuff[0]\n",
    "token = stuff[1]\n",
    "board=stuff[2]"
   ]
  },
  {
   "cell_type": "code",
   "execution_count": 3,
   "metadata": {
    "ExecuteTime": {
     "end_time": "2018-09-13T18:11:30.385660Z",
     "start_time": "2018-09-13T18:11:30.277647Z"
    }
   },
   "outputs": [],
   "source": [
    "# 'https://api.trello.com/1/members/me/boards?key={}&token={}'.format(key,token)"
   ]
  },
  {
   "cell_type": "code",
   "execution_count": null,
   "metadata": {
    "ExecuteTime": {
     "end_time": "2018-09-13T16:53:46.330103Z",
     "start_time": "2018-09-13T16:53:46.326113Z"
    }
   },
   "outputs": [],
   "source": []
  },
  {
   "cell_type": "code",
   "execution_count": 4,
   "metadata": {
    "ExecuteTime": {
     "end_time": "2018-09-13T18:11:30.502341Z",
     "start_time": "2018-09-13T18:11:30.389651Z"
    }
   },
   "outputs": [],
   "source": [
    "url='https://api.trello.com/1/boards/{}?key={}&token={}&lists=all'.format(board,key,token)"
   ]
  },
  {
   "cell_type": "code",
   "execution_count": 5,
   "metadata": {
    "ExecuteTime": {
     "end_time": "2018-09-13T18:11:30.616044Z",
     "start_time": "2018-09-13T18:11:30.508327Z"
    }
   },
   "outputs": [],
   "source": [
    "# 'https://api.trello.com/1/boards/{}'.format(board)"
   ]
  },
  {
   "cell_type": "code",
   "execution_count": 6,
   "metadata": {
    "ExecuteTime": {
     "end_time": "2018-09-13T18:11:30.819316Z",
     "start_time": "2018-09-13T18:11:30.618033Z"
    }
   },
   "outputs": [],
   "source": [
    "url='https://api.trello.com/1/boards/{}/lists?key={}&token={}&cards=open'.format(board,key,token)"
   ]
  },
  {
   "cell_type": "code",
   "execution_count": 7,
   "metadata": {
    "ExecuteTime": {
     "end_time": "2018-09-13T18:11:30.913687Z",
     "start_time": "2018-09-13T18:11:30.824301Z"
    }
   },
   "outputs": [],
   "source": [
    "# url"
   ]
  },
  {
   "cell_type": "code",
   "execution_count": 8,
   "metadata": {
    "ExecuteTime": {
     "end_time": "2018-09-13T18:11:31.266341Z",
     "start_time": "2018-09-13T18:11:30.916678Z"
    }
   },
   "outputs": [],
   "source": [
    "respCardId = requests.get(url)"
   ]
  },
  {
   "cell_type": "code",
   "execution_count": 9,
   "metadata": {
    "ExecuteTime": {
     "end_time": "2018-09-13T18:11:31.272177Z",
     "start_time": "2018-09-13T18:11:31.269185Z"
    }
   },
   "outputs": [],
   "source": [
    "# respCardId.json()"
   ]
  },
  {
   "cell_type": "code",
   "execution_count": 10,
   "metadata": {
    "ExecuteTime": {
     "end_time": "2018-09-13T18:11:31.400986Z",
     "start_time": "2018-09-13T18:11:31.275170Z"
    },
    "scrolled": false
   },
   "outputs": [],
   "source": [
    "url_check='https://api.trello.com/1/checklists/{}?key={}&token={}'.format(respCardId.json()[0]['cards'][0]['idChecklists'][0],key,token)"
   ]
  },
  {
   "cell_type": "code",
   "execution_count": 11,
   "metadata": {
    "ExecuteTime": {
     "end_time": "2018-09-13T18:11:31.499454Z",
     "start_time": "2018-09-13T18:11:31.403826Z"
    }
   },
   "outputs": [],
   "source": [
    "# respCardId.json()[0]['cards'][0]['name']"
   ]
  },
  {
   "cell_type": "code",
   "execution_count": null,
   "metadata": {},
   "outputs": [],
   "source": []
  },
  {
   "cell_type": "code",
   "execution_count": 12,
   "metadata": {
    "ExecuteTime": {
     "end_time": "2018-09-13T18:11:31.739405Z",
     "start_time": "2018-09-13T18:11:31.501450Z"
    }
   },
   "outputs": [],
   "source": [
    "resp_check = requests.get(url_check)"
   ]
  },
  {
   "cell_type": "code",
   "execution_count": 13,
   "metadata": {
    "ExecuteTime": {
     "end_time": "2018-09-13T18:11:31.746385Z",
     "start_time": "2018-09-13T18:11:31.742394Z"
    }
   },
   "outputs": [],
   "source": [
    "names=[]\n",
    "for i in resp_check.json()['checkItems']:\n",
    "    names.append(i['name'])"
   ]
  },
  {
   "cell_type": "code",
   "execution_count": 14,
   "metadata": {
    "ExecuteTime": {
     "end_time": "2018-09-13T18:11:31.882973Z",
     "start_time": "2018-09-13T18:11:31.748380Z"
    },
    "scrolled": true
   },
   "outputs": [],
   "source": [
    "# names"
   ]
  },
  {
   "cell_type": "code",
   "execution_count": 15,
   "metadata": {
    "ExecuteTime": {
     "end_time": "2018-09-13T18:11:31.983200Z",
     "start_time": "2018-09-13T18:11:31.885963Z"
    }
   },
   "outputs": [],
   "source": [
    "# respCardId.json()[0]['cards'][0]['name']"
   ]
  },
  {
   "cell_type": "code",
   "execution_count": 16,
   "metadata": {
    "ExecuteTime": {
     "end_time": "2018-09-13T18:11:32.388861Z",
     "start_time": "2018-09-13T18:11:31.985194Z"
    }
   },
   "outputs": [],
   "source": [
    "url_board = \"https://api.trello.com/1/boards/\"\n",
    "\n",
    "querystring = {\"name\":respCardId.json()[0]['cards'][0]['name'],\n",
    "               \"defaultLabels\":\"true\",\n",
    "               \"defaultLists\":\"true\",\n",
    "               \"keepFromSource\":\"none\",\n",
    "               \"prefs_permissionLevel\":\"private\",\n",
    "               \"prefs_voting\":\"disabled\",\n",
    "               \"prefs_comments\":\"members\",\n",
    "               \"prefs_invitations\":\"members\",\n",
    "               \"prefs_selfJoin\":\"true\",\n",
    "               \"prefs_cardCovers\":\"true\",\n",
    "               \"prefs_background\":\"blue\",\n",
    "               \"prefs_cardAging\":\"regular\",\n",
    "               'key':key,\n",
    "               'token':token}\n",
    "\n",
    "resp_board = requests.post(url_board, params=querystring)"
   ]
  },
  {
   "cell_type": "code",
   "execution_count": 17,
   "metadata": {
    "ExecuteTime": {
     "end_time": "2018-09-13T18:11:32.457454Z",
     "start_time": "2018-09-13T18:11:32.393843Z"
    }
   },
   "outputs": [],
   "source": [
    "# resp_board.json()['id']"
   ]
  },
  {
   "cell_type": "code",
   "execution_count": 18,
   "metadata": {
    "ExecuteTime": {
     "end_time": "2018-09-13T18:11:32.557301Z",
     "start_time": "2018-09-13T18:11:32.464434Z"
    }
   },
   "outputs": [],
   "source": [
    "url_lists='https://api.trello.com/1/boards/{}/lists?key={}&token={}'.format(resp_board.json()['id'],key,token)"
   ]
  },
  {
   "cell_type": "code",
   "execution_count": 19,
   "metadata": {
    "ExecuteTime": {
     "end_time": "2018-09-13T18:11:32.784206Z",
     "start_time": "2018-09-13T18:11:32.563286Z"
    }
   },
   "outputs": [],
   "source": [
    "resp_lists = requests.get(url_lists)"
   ]
  },
  {
   "cell_type": "code",
   "execution_count": 20,
   "metadata": {
    "ExecuteTime": {
     "end_time": "2018-09-13T18:11:32.793174Z",
     "start_time": "2018-09-13T18:11:32.786193Z"
    }
   },
   "outputs": [],
   "source": [
    "# resp_lists.json()[0]['id']"
   ]
  },
  {
   "cell_type": "code",
   "execution_count": 21,
   "metadata": {
    "ExecuteTime": {
     "end_time": "2018-09-13T18:11:33.035126Z",
     "start_time": "2018-09-13T18:11:32.796169Z"
    },
    "scrolled": false
   },
   "outputs": [],
   "source": [
    "# resp_lists.json()"
   ]
  },
  {
   "cell_type": "code",
   "execution_count": 22,
   "metadata": {
    "ExecuteTime": {
     "end_time": "2018-09-13T18:11:34.472830Z",
     "start_time": "2018-09-13T18:11:33.040114Z"
    }
   },
   "outputs": [],
   "source": [
    "for i in names:\n",
    "    url_cards = \"https://api.trello.com/1/cards\"\n",
    "\n",
    "    querystring = {\"name\":i,\"pos\":\"bottom\",\"idList\":resp_lists.json()[0]['id'],\"keepFromSource\":\"all\",'key':key,'token':token}\n",
    "\n",
    "    response = requests.request(\"POST\", url_cards, params=querystring)\n",
    "\n",
    "# print(response.text)"
   ]
  },
  {
   "cell_type": "code",
   "execution_count": 23,
   "metadata": {
    "ExecuteTime": {
     "end_time": "2018-09-13T18:11:34.479329Z",
     "start_time": "2018-09-13T18:11:34.475816Z"
    }
   },
   "outputs": [],
   "source": [
    "# resp = requests.get(url)\n",
    "# if resp.status_code != 200:\n",
    "#     raise ApiError('GET /tasks/ {}'.format(resp.status_code))"
   ]
  },
  {
   "cell_type": "code",
   "execution_count": null,
   "metadata": {},
   "outputs": [],
   "source": []
  }
 ],
 "metadata": {
  "hide_input": false,
  "kernelspec": {
   "display_name": "Python 3",
   "language": "python",
   "name": "python3"
  },
  "language_info": {
   "codemirror_mode": {
    "name": "ipython",
    "version": 3
   },
   "file_extension": ".py",
   "mimetype": "text/x-python",
   "name": "python",
   "nbconvert_exporter": "python",
   "pygments_lexer": "ipython3",
   "version": "3.6.5"
  },
  "toc": {
   "base_numbering": 1,
   "nav_menu": {},
   "number_sections": true,
   "sideBar": true,
   "skip_h1_title": false,
   "title_cell": "Table of Contents",
   "title_sidebar": "Contents",
   "toc_cell": false,
   "toc_position": {},
   "toc_section_display": true,
   "toc_window_display": false
  }
 },
 "nbformat": 4,
 "nbformat_minor": 2
}
