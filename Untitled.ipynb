{
 "cells": [
  {
   "cell_type": "code",
   "execution_count": null,
   "metadata": {
    "ExecuteTime": {
     "start_time": "2018-09-14T02:37:14.431Z"
    }
   },
   "outputs": [
    {
     "name": "stderr",
     "output_type": "stream",
     "text": [
      " * Running on http://127.0.0.1:5000/ (Press CTRL+C to quit)\n",
      "127.0.0.1 - - [13/Sep/2018 22:37:34] \"POST /webhook HTTP/1.1\" 400 -\n",
      "127.0.0.1 - - [13/Sep/2018 22:37:45] \"GET /webhook HTTP/1.1\" 405 -\n",
      "127.0.0.1 - - [13/Sep/2018 22:37:45] \"GET /favicon.ico HTTP/1.1\" 404 -\n",
      "127.0.0.1 - - [13/Sep/2018 22:37:45] \"GET /favicon.ico HTTP/1.1\" 404 -\n",
      "127.0.0.1 - - [13/Sep/2018 22:39:02] \"GET /webhook HTTP/1.1\" 405 -\n",
      "127.0.0.1 - - [13/Sep/2018 22:39:54] \"GET /webhook HTTP/1.1\" 405 -\n",
      "127.0.0.1 - - [13/Sep/2018 22:40:42] \"POST /webhook HTTP/1.1\" 200 -\n"
     ]
    },
    {
     "name": "stdout",
     "output_type": "stream",
     "text": [
      "None\n"
     ]
    },
    {
     "name": "stderr",
     "output_type": "stream",
     "text": [
      "127.0.0.1 - - [13/Sep/2018 22:41:12] \"POST /webhook HTTP/1.1\" 200 -\n"
     ]
    },
    {
     "name": "stdout",
     "output_type": "stream",
     "text": [
      "None\n"
     ]
    },
    {
     "name": "stderr",
     "output_type": "stream",
     "text": [
      "127.0.0.1 - - [13/Sep/2018 22:43:11] \"POST /webhook HTTP/1.1\" 400 -\n",
      "127.0.0.1 - - [13/Sep/2018 22:43:43] \"POST /webhook HTTP/1.1\" 200 -\n"
     ]
    },
    {
     "name": "stdout",
     "output_type": "stream",
     "text": [
      "{'key1': 'value1'}\n"
     ]
    }
   ],
   "source": [
    "from flask import Flask, request, abort\n",
    "\n",
    "app = Flask(__name__)\n",
    "\n",
    "\n",
    "@app.route('/webhook', methods=['POST'])\n",
    "def webhook():\n",
    "    if request.method == 'POST':\n",
    "        print(request.json)\n",
    "        return '', 200\n",
    "    else:\n",
    "        abort(400)\n",
    "\n",
    "\n",
    "if __name__ == '__main__':\n",
    "    app.run()"
   ]
  },
  {
   "cell_type": "markdown",
   "metadata": {
    "ExecuteTime": {
     "start_time": "2018-09-14T02:45:00.474Z"
    }
   },
   "source": [
    "curl -X POST -H \"Content-Type: application/json\" -d \"{ \\\"key1\\\": \\\"value1\\\" }\"  127.0.0.1:5000/webhook"
   ]
  },
  {
   "cell_type": "markdown",
   "metadata": {},
   "source": [
    "https://ogma-dev.github.io/posts/simple-flask-webhook/"
   ]
  }
 ],
 "metadata": {
  "hide_input": false,
  "kernelspec": {
   "display_name": "Python 3",
   "language": "python",
   "name": "python3"
  },
  "language_info": {
   "codemirror_mode": {
    "name": "ipython",
    "version": 3
   },
   "file_extension": ".py",
   "mimetype": "text/x-python",
   "name": "python",
   "nbconvert_exporter": "python",
   "pygments_lexer": "ipython3",
   "version": "3.6.4"
  },
  "toc": {
   "base_numbering": 1,
   "nav_menu": {},
   "number_sections": true,
   "sideBar": true,
   "skip_h1_title": false,
   "title_cell": "Table of Contents",
   "title_sidebar": "Contents",
   "toc_cell": false,
   "toc_position": {},
   "toc_section_display": true,
   "toc_window_display": false
  }
 },
 "nbformat": 4,
 "nbformat_minor": 2
}
